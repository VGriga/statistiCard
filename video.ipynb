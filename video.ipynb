{
 "cells": [
  {
   "cell_type": "code",
   "execution_count": 1,
   "metadata": {},
   "outputs": [
    {
     "ename": "ImportError",
     "evalue": "cannot import name 'get_cards_from_photo' from 'card_recognition_V2' (c:\\Users\\andre\\Documents\\skol_laptop\\6term\\ICV\\rpoj\\card_recognition_V2.py)",
     "output_type": "error",
     "traceback": [
      "\u001b[1;31m---------------------------------------------------------------------------\u001b[0m",
      "\u001b[1;31mImportError\u001b[0m                               Traceback (most recent call last)",
      "Cell \u001b[1;32mIn[1], line 7\u001b[0m\n\u001b[0;32m      5\u001b[0m \u001b[38;5;28;01mimport\u001b[39;00m \u001b[38;5;21;01mpickle\u001b[39;00m\n\u001b[0;32m      6\u001b[0m \u001b[38;5;28;01mfrom\u001b[39;00m \u001b[38;5;21;01mcard_recognition_V1\u001b[39;00m \u001b[38;5;28;01mimport\u001b[39;00m get_cards_from_photo, plot_boxes, get_matches\n\u001b[1;32m----> 7\u001b[0m \u001b[38;5;28;01mfrom\u001b[39;00m \u001b[38;5;21;01mcard_recognition_V2\u001b[39;00m \u001b[38;5;28;01mimport\u001b[39;00m get_cards_from_photo\n\u001b[0;32m      8\u001b[0m \u001b[38;5;28;01mfrom\u001b[39;00m \u001b[38;5;21;01mcalculator\u001b[39;00m \u001b[38;5;28;01mimport\u001b[39;00m calculator\n",
      "\u001b[1;31mImportError\u001b[0m: cannot import name 'get_cards_from_photo' from 'card_recognition_V2' (c:\\Users\\andre\\Documents\\skol_laptop\\6term\\ICV\\rpoj\\card_recognition_V2.py)"
     ]
    }
   ],
   "source": [
    "import cv2\n",
    "import matplotlib.pyplot as plt\n",
    "import os\n",
    "import numpy as np\n",
    "import pickle\n",
    "from card_recognition_V1 import get_cards_from_photo, plot_boxes\n",
    "from card_recognition_V2 import warp_box, get_matches\n",
    "from calculator import calculator\n"
   ]
  },
  {
   "cell_type": "code",
   "execution_count": null,
   "metadata": {},
   "outputs": [],
   "source": [
    "def recognize_value(sus:str):\n",
    "    possible = ['Two', 'Three', 'Four', 'Five','Six','Seven','Eight','Nine','Ten','Jack','Queen','King','Ace']\n",
    "    to_be = ['2','3','4','5','6','7','8','9','10','J','Q','K','A']\n",
    "    return to_be[possible.index(sus)]"
   ]
  },
  {
   "cell_type": "code",
   "execution_count": null,
   "metadata": {},
   "outputs": [],
   "source": [
    "video_path = 'IMG.MOV'  "
   ]
  },
  {
   "cell_type": "code",
   "execution_count": null,
   "metadata": {},
   "outputs": [
    {
     "name": "stderr",
     "output_type": "stream",
     "text": [
      "c:\\Users\\andre\\AppData\\Local\\Programs\\Python\\Python312\\Lib\\site-packages\\numpy\\core\\fromnumeric.py:3504: RuntimeWarning: Mean of empty slice.\n",
      "  return _methods._mean(a, axis=axis, dtype=dtype,\n",
      "c:\\Users\\andre\\AppData\\Local\\Programs\\Python\\Python312\\Lib\\site-packages\\numpy\\core\\_methods.py:129: RuntimeWarning: invalid value encountered in scalar divide\n",
      "  ret = ret.dtype.type(ret / rcount)\n"
     ]
    },
    {
     "data": {
      "image/png": "[encoded data removed]",
      "text/plain": [
       "<Figure size 640x480 with 1 Axes>"
      ]
     },
     "metadata": {},
     "output_type": "display_data"
    }
   ],
   "source": [
    "cap = cv2.VideoCapture(video_path)\n",
    "video_width = int(cap.get(3))\n",
    "video_height = int(cap.get(4))\n",
    "\n",
    "out = cv2.VideoWriter('captured.mp4', cv2.VideoWriter_fourcc(*'mp4v'),30, (video_width, video_height))\n",
    "\n",
    "gone_cards=[]\n",
    "flag_to_change = 0\n",
    "prev = []\n",
    "frame_count = 0\n",
    "\n",
    "to_be_texted = None\n",
    "my_warps = None\n",
    "\n",
    "while True:\n",
    "    ret, frame = cap.read()\n",
    "    if not ret:\n",
    "        break  # Break the loop if there are no more frames\n",
    "\n",
    "    frame_count += 1\n",
    "\n",
    "    if frame_count%15==3:\n",
    "        current = frame\n",
    "        warp, boxes = get_cards_from_photo(current,110)\n",
    "        splttier = np.mean([x[:,1] for x in boxes])\n",
    "        my_cards_boxes = []\n",
    "        my_warps = []\n",
    "        dealers_cards_boxes = []\n",
    "        dealers_waprs = []\n",
    "        for i, box in enumerate(boxes):\n",
    "            if box[0,1]<splttier:\n",
    "                my_cards_boxes.append(box)\n",
    "                my_warps.append(warp[i])\n",
    "            else:\n",
    "                dealers_cards_boxes.append(box)\n",
    "                dealers_waprs.append(warp[i])\n",
    "        labels_path = 'cv_query/ground_labels_V1.txt'\n",
    "        ground_cards_path = 'cv_query/ground_truth_cards/'\n",
    "        ground_cards_dirs = sorted(os.listdir(ground_cards_path))\n",
    "        with open(labels_path, \"rb\") as fp: \n",
    "            cards_labels = pickle.load(fp)\n",
    "        ground_cards = [plt.imread(ground_cards_path+f'card_ground_{i}.jpg') for i in range(52)]\n",
    "        # my_index = get_matches(my_warps, ground_cards, plot=False, title_name='5')\n",
    "        # dealer_index = get_matches(dealers_waprs, ground_cards, plot=False, title_name='5')\n",
    "\n",
    "        my_cards = [recognize_value(x)+y[0] for (x,y) in detect_cards()]\n",
    "        dealer_cards = [recognize_value(x)+y[0] for (x,y) in detect_cards()]\n",
    "        \n",
    "        probs = calculator(my_cards, dealer_cards, gone_cards)\n",
    "                \n",
    "        if len(warp) >= 4:\n",
    "            if probs == (-2,-2,-2):\n",
    "                to_be_texted = \"You won!\"\n",
    "            elif probs == (-1,-1,-1):\n",
    "                to_be_texted = \"You lose!\"\n",
    "            else:\n",
    "                to_be_texted = 'probabilities with next card taken: \\n'+ \\\n",
    "                                f'overtake: {probs[0]*100:0.1f}%\\n' + \\\n",
    "                                f'blackjack: {probs[1]*100:0.1f}%\\n' + \\\n",
    "                                f'undertake: {probs[2]*100:0.1f}%\\n'\n",
    "\n",
    "            prev = my_cards + dealer_cards\n",
    "            flag_to_change = True\n",
    "        elif len(warp)==0 and flag_to_change:\n",
    "            gone_cards = gone_cards + prev    \n",
    "            flag_to_change = False\n",
    "    \n",
    "    if to_be_texted:\n",
    "        for i, line in enumerate(to_be_texted.split('\\n')):\n",
    "            y0, dy = 500, 100\n",
    "            y = y0 + i*dy\n",
    "            # cv2.putText(img, line, (50, y ), cv2.FONT_HERSHEY_SIMPLEX, 1, 2)\n",
    "            cv2.putText(frame,line,\n",
    "                    (500,y),\n",
    "                    cv2.FONT_HERSHEY_SIMPLEX,\n",
    "                    3, (0,255,255),5)\n",
    "        \n",
    "    if my_warps:\n",
    "        if len(my_cards)+len(dealer_cards)==4:    \n",
    "            plot_boxes(frame,my_cards_boxes)\n",
    "            plot_boxes(frame,dealers_cards_boxes, col=(255,0,0))\n",
    "            \n",
    "    cv2.putText(frame,f'cards gone: {len(gone_cards)}',\n",
    "                (50,frame.shape[0]-50),\n",
    "                cv2.FONT_HERSHEY_SIMPLEX,\n",
    "                4,(255,255,255),5)\n",
    "    out.write(frame)\n",
    "\n",
    "cap.release()\n",
    "out.release()"
   ]
  }
 ],
 "metadata": {
  "kernelspec": {
   "display_name": "Python 3",
   "language": "python",
   "name": "python3"
  },
  "language_info": {
   "codemirror_mode": {
    "name": "ipython",
    "version": 3
   },
   "file_extension": ".py",
   "mimetype": "text/x-python",
   "name": "python",
   "nbconvert_exporter": "python",
   "pygments_lexer": "ipython3",
   "version": "3.12.0"
  }
 },
 "nbformat": 4,
 "nbformat_minor": 2
}
